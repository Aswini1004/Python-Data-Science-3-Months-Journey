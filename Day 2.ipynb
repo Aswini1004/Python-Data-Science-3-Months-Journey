{
 "cells": [
  {
   "cell_type": "code",
   "execution_count": 1,
   "id": "c9616268-8266-43e5-a470-3092cf67c60a",
   "metadata": {},
   "outputs": [],
   "source": [
    "# Python libraries for data science\n",
    "# Numpy\n",
    "# Pandas\n",
    "# Matplotlib"
   ]
  },
  {
   "cell_type": "code",
   "execution_count": null,
   "id": "77cedab5-2819-4c13-89d7-d8cfdb1c87ab",
   "metadata": {},
   "outputs": [],
   "source": [
    "# numpy --> NumPy (Numerical Python) is a powerful library for working with arrays, matrices, and numerical operations. \n",
    "# It forms the foundation of most data science operations."
   ]
  },
  {
   "cell_type": "code",
   "execution_count": 3,
   "id": "65cbcf09-6bf3-4efb-b457-e38dafa86654",
   "metadata": {},
   "outputs": [
    {
     "name": "stdout",
     "output_type": "stream",
     "text": [
      "Array: [1 2 3 4 5] \n"
     ]
    }
   ],
   "source": [
    "import numpy as np\n",
    "\n",
    "arr= np.array([1,2,3,4,5])\n",
    "\n",
    "print(f\"Array: {arr} \")"
   ]
  },
  {
   "cell_type": "code",
   "execution_count": 5,
   "id": "0f827a29-5af8-4eaa-b46e-8e6ed12a5b9a",
   "metadata": {},
   "outputs": [
    {
     "name": "stdout",
     "output_type": "stream",
     "text": [
      "Array: [10 20 30 40 50]\n"
     ]
    }
   ],
   "source": [
    "arr2= np.array([10,20,30,40,50])\n",
    "print(f\"Array: {arr2}\")"
   ]
  },
  {
   "cell_type": "code",
   "execution_count": 7,
   "id": "e3e01f7c-0ae1-42c2-a136-0b1d47d70f47",
   "metadata": {},
   "outputs": [
    {
     "name": "stdout",
     "output_type": "stream",
     "text": [
      "[11 22 33 44 55]\n"
     ]
    }
   ],
   "source": [
    "arr_sum= arr+arr2\n",
    "print(arr_sum)"
   ]
  },
  {
   "cell_type": "code",
   "execution_count": 8,
   "id": "bcfd2434-4fde-44b8-abb6-2b6559a5d903",
   "metadata": {},
   "outputs": [
    {
     "name": "stdout",
     "output_type": "stream",
     "text": [
      "[ 10  40  90 160 250]\n"
     ]
    }
   ],
   "source": [
    "arr_mulp= arr*arr2\n",
    "print(arr_mulp)"
   ]
  },
  {
   "cell_type": "code",
   "execution_count": 13,
   "id": "53f02925-90f9-40f9-8184-5a42cbbfb194",
   "metadata": {},
   "outputs": [
    {
     "name": "stdout",
     "output_type": "stream",
     "text": [
      "first 3 elements: [20 30 40]\n",
      "element two and three: [30 40]\n"
     ]
    }
   ],
   "source": [
    "arr3= np.array([20,30,40,50])\n",
    "\n",
    "print(f\"first 3 elements: {arr3[:3]}\")\n",
    "print(f\"element two and three: {arr3[1:3]}\")"
   ]
  },
  {
   "cell_type": "code",
   "execution_count": 17,
   "id": "348ad281-b02c-40a2-8eed-0ca2b9ae1d0b",
   "metadata": {},
   "outputs": [
    {
     "name": "stdout",
     "output_type": "stream",
     "text": [
      "array mean is 5.0\n",
      " array sum is 5.0\n",
      "Min array is 1 and max array is 9\n"
     ]
    }
   ],
   "source": [
    "arr4= np.array([1,2,3,4,5,6,7,8,9])\n",
    "\n",
    "print(f\"array mean is {np.mean(arr4)}\")\n",
    "print(f\" array sum is {np.mean(arr4)}\")\n",
    "print(f\"Min array is {np.min(arr4)} and max array is {np.max(arr4)}\")\n",
    "\n"
   ]
  },
  {
   "cell_type": "code",
   "execution_count": null,
   "id": "91375104-7c4f-4b74-a2ad-3e2b76eab807",
   "metadata": {},
   "outputs": [],
   "source": [
    "# Pandas is a powerful library for data manipulation. It provides two main data structures:\n",
    "\n",
    "# Series: One-dimensional arrays (like lists).\n",
    "# DataFrame: Two-dimensional tables (like Excel spreadsheets)."
   ]
  },
  {
   "cell_type": "code",
   "execution_count": 25,
   "id": "417b5184-f54a-4c83-bec1-9625faaf7e9e",
   "metadata": {},
   "outputs": [
    {
     "name": "stdout",
     "output_type": "stream",
     "text": [
      "<class 'pandas.core.frame.DataFrame'>\n",
      "RangeIndex: 3 entries, 0 to 2\n",
      "Data columns (total 3 columns):\n",
      " #   Column  Non-Null Count  Dtype \n",
      "---  ------  --------------  ----- \n",
      " 0   Name    3 non-null      object\n",
      " 1   Age     3 non-null      int64 \n",
      " 2   City    3 non-null      object\n",
      "dtypes: int64(1), object(2)\n",
      "memory usage: 204.0+ bytes\n",
      "None\n",
      "    Name  Age    City\n",
      "0  Alice   24  London\n",
      "1    Joe   28     USA\n",
      "2    May   32   China\n",
      "        Age\n",
      "count   3.0\n",
      "mean   28.0\n",
      "std     4.0\n",
      "min    24.0\n",
      "25%    26.0\n",
      "50%    28.0\n",
      "75%    30.0\n",
      "max    32.0\n"
     ]
    }
   ],
   "source": [
    "import pandas as pd\n",
    "\n",
    "data= {\n",
    "    \"Name\": [\"Alice\", \"Joe\", \"May\"], \n",
    "    \"Age\": [24,28,32], \n",
    "    \"City\": [\"London\", \"USA\", \"China\"]\n",
    "}\n",
    "df= pd.DataFrame(data)\n",
    "\n",
    "print(df.info())\n",
    "print(df.head())\n",
    "print(df.describe())"
   ]
  },
  {
   "cell_type": "code",
   "execution_count": 26,
   "id": "43efe11c-550a-491f-b84d-dd8b54d0bb27",
   "metadata": {},
   "outputs": [
    {
     "name": "stdout",
     "output_type": "stream",
     "text": [
      "0    Alice\n",
      "1      Joe\n",
      "2      May\n",
      "Name: Name, dtype: object\n"
     ]
    }
   ],
   "source": [
    "print(df[\"Name\"])"
   ]
  },
  {
   "cell_type": "code",
   "execution_count": 30,
   "id": "228a9fb2-d5aa-4bc9-86ea-1459f038528b",
   "metadata": {},
   "outputs": [],
   "source": [
    "fil_data= df[df[\"Age\"]>20]"
   ]
  },
  {
   "cell_type": "code",
   "execution_count": 31,
   "id": "17d67987-540b-4edb-af8b-44b5123e5fdd",
   "metadata": {},
   "outputs": [
    {
     "name": "stdout",
     "output_type": "stream",
     "text": [
      "    Name  Age    City\n",
      "0  Alice   24  London\n",
      "1    Joe   28     USA\n",
      "2    May   32   China\n"
     ]
    }
   ],
   "source": [
    "print(fil_data)"
   ]
  },
  {
   "cell_type": "code",
   "execution_count": 33,
   "id": "7c6cc126-229f-41d7-aad0-ccc1efa0dffd",
   "metadata": {},
   "outputs": [],
   "source": [
    "data_with_nan= {\n",
    "    \"Name\": [\"Alice\", None, \"May\"], \n",
    "    \"Age\": [24,28,32], \n",
    "    \"City\": [\"London\", None, \"China\"]\n",
    "}"
   ]
  },
  {
   "cell_type": "code",
   "execution_count": 35,
   "id": "a69a8607-ec15-44d8-88cb-f57fe70b8142",
   "metadata": {},
   "outputs": [
    {
     "name": "stdout",
     "output_type": "stream",
     "text": [
      "    Name  Age    City\n",
      "0  Alice   24  London\n",
      "1   None   28    None\n",
      "2    May   32   China\n"
     ]
    }
   ],
   "source": [
    "dt= pd.DataFrame(data_with_nan)\n",
    "print(dt)\n",
    "\n"
   ]
  },
  {
   "cell_type": "code",
   "execution_count": 38,
   "id": "aae9f522-b99e-40a4-8c73-5da103c9a265",
   "metadata": {},
   "outputs": [
    {
     "name": "stdout",
     "output_type": "stream",
     "text": [
      "    Name    Age   City\n",
      "0  False  False  False\n",
      "1   True  False   True\n",
      "2  False  False  False\n"
     ]
    }
   ],
   "source": [
    "print(dt.isnull())"
   ]
  },
  {
   "cell_type": "code",
   "execution_count": 39,
   "id": "1693d9d6-5ef2-42db-bc68-fd1adad606d3",
   "metadata": {},
   "outputs": [],
   "source": [
    "df_nan= dt.fillna('unknown')"
   ]
  },
  {
   "cell_type": "code",
   "execution_count": 40,
   "id": "64b93779-3ee4-46c8-9d37-f74b925425c3",
   "metadata": {},
   "outputs": [
    {
     "name": "stdout",
     "output_type": "stream",
     "text": [
      "      Name  Age     City\n",
      "0    Alice   24   London\n",
      "1  unknown   28  unknown\n",
      "2      May   32    China\n"
     ]
    }
   ],
   "source": [
    "print(df_nan)"
   ]
  },
  {
   "cell_type": "code",
   "execution_count": 41,
   "id": "fc1a2705-4b07-4313-9844-1adc49ee8002",
   "metadata": {
    "scrolled": true
   },
   "outputs": [
    {
     "data": {
      "image/png": "[encoded data removed]",
      "text/plain": [
       "<Figure size 640x480 with 1 Axes>"
      ]
     },
     "metadata": {},
     "output_type": "display_data"
    }
   ],
   "source": [
    "# matplotlib\n",
    "\n",
    "import matplotlib.pyplot as plt\n",
    "\n",
    "x= [1,2,3,4,5,6,7]\n",
    "y= [3,2,5,6,8,9,3]\n",
    "\n",
    "plt.plot(x,y)\n",
    "plt.title('X vs Y graph')\n",
    "plt.xlabel('x-axis')\n",
    "plt.ylabel('y-axis')\n",
    "plt.show()\n"
   ]
  },
  {
   "cell_type": "code",
   "execution_count": 42,
   "id": "7712d666-fd98-4980-83ef-e6e5e7234dc0",
   "metadata": {
    "scrolled": true
   },
   "outputs": [
    {
     "data": {
      "image/png": "[encoded data removed]",
      "text/plain": [
       "<Figure size 640x480 with 1 Axes>"
      ]
     },
     "metadata": {},
     "output_type": "display_data"
    }
   ],
   "source": [
    "x= [1,2,3,4,5,6,7]\n",
    "y= [3,2,5,6,8,9,3]\n",
    "\n",
    "plt.bar(x,y)\n",
    "plt.title('X vs Y graph')\n",
    "plt.xlabel('x-axis')\n",
    "plt.ylabel('y-axis')\n",
    "plt.show()"
   ]
  },
  {
   "cell_type": "code",
   "execution_count": 51,
   "id": "b1e99695-f96f-4f4d-aa45-2dee2392bb28",
   "metadata": {
    "scrolled": true
   },
   "outputs": [
    {
     "data": {
      "image/png": "[encoded data removed]",
      "text/plain": [
       "<Figure size 640x480 with 1 Axes>"
      ]
     },
     "metadata": {},
     "output_type": "display_data"
    }
   ],
   "source": [
    "data= [1,1,1,1,1,2,2,2,4,4,4,6,6,6,6]\n",
    "\n",
    "plt.hist(data, bins= 20)\n",
    "plt.title('X vs Y graph')\n",
    "plt.xlabel('value')\n",
    "plt.ylabel('frequency')\n",
    "plt.show()"
   ]
  },
  {
   "cell_type": "code",
   "execution_count": 57,
   "id": "e3fd0881-ce78-4d73-925c-98b9eb378646",
   "metadata": {},
   "outputs": [],
   "source": [
    "# mini project using sales data\n",
    "\n",
    "import pandas as pd\n",
    "import matplotlib.pyplot as plt\n",
    "\n",
    "data= pd.read_csv(\"C:/Users/Admin/Desktop/sales data.csv\")"
   ]
  },
  {
   "cell_type": "code",
   "execution_count": 58,
   "id": "20cfa61c-edf0-4b78-bc2a-98f1c43ba5be",
   "metadata": {},
   "outputs": [
    {
     "name": "stdout",
     "output_type": "stream",
     "text": [
      "       Date  Sales  Unnamed: 2\n",
      "0  1/9/2023    100         NaN\n",
      "1  2/9/2023    200         NaN\n",
      "2  3/9/2023    250         NaN\n",
      "3  4/9/2023    175         NaN\n",
      "4  5/9/2023    150         NaN\n"
     ]
    }
   ],
   "source": [
    "print(data.head())"
   ]
  },
  {
   "cell_type": "code",
   "execution_count": 59,
   "id": "58855143-752a-4950-a213-b28eb929ac1a",
   "metadata": {},
   "outputs": [
    {
     "name": "stdout",
     "output_type": "stream",
     "text": [
      "<class 'pandas.core.frame.DataFrame'>\n",
      "RangeIndex: 5 entries, 0 to 4\n",
      "Data columns (total 3 columns):\n",
      " #   Column      Non-Null Count  Dtype  \n",
      "---  ------      --------------  -----  \n",
      " 0   Date        5 non-null      object \n",
      " 1   Sales       5 non-null      int64  \n",
      " 2   Unnamed: 2  0 non-null      float64\n",
      "dtypes: float64(1), int64(1), object(1)\n",
      "memory usage: 252.0+ bytes\n",
      "None\n"
     ]
    }
   ],
   "source": [
    "print(data.info())"
   ]
  },
  {
   "cell_type": "code",
   "execution_count": 60,
   "id": "356ac5c5-ef6a-4bc4-ba7d-53b618753af4",
   "metadata": {},
   "outputs": [
    {
     "data": {
      "text/html": [
       "<div>\n",
       "<style scoped>\n",
       "    .dataframe tbody tr th:only-of-type {\n",
       "        vertical-align: middle;\n",
       "    }\n",
       "\n",
       "    .dataframe tbody tr th {\n",
       "        vertical-align: top;\n",
       "    }\n",
       "\n",
       "    .dataframe thead th {\n",
       "        text-align: right;\n",
       "    }\n",
       "</style>\n",
       "<table border=\"1\" class=\"dataframe\">\n",
       "  <thead>\n",
       "    <tr style=\"text-align: right;\">\n",
       "      <th></th>\n",
       "      <th>Sales</th>\n",
       "      <th>Unnamed: 2</th>\n",
       "    </tr>\n",
       "  </thead>\n",
       "  <tbody>\n",
       "    <tr>\n",
       "      <th>count</th>\n",
       "      <td>5.000000</td>\n",
       "      <td>0.0</td>\n",
       "    </tr>\n",
       "    <tr>\n",
       "      <th>mean</th>\n",
       "      <td>175.000000</td>\n",
       "      <td>NaN</td>\n",
       "    </tr>\n",
       "    <tr>\n",
       "      <th>std</th>\n",
       "      <td>55.901699</td>\n",
       "      <td>NaN</td>\n",
       "    </tr>\n",
       "    <tr>\n",
       "      <th>min</th>\n",
       "      <td>100.000000</td>\n",
       "      <td>NaN</td>\n",
       "    </tr>\n",
       "    <tr>\n",
       "      <th>25%</th>\n",
       "      <td>150.000000</td>\n",
       "      <td>NaN</td>\n",
       "    </tr>\n",
       "    <tr>\n",
       "      <th>50%</th>\n",
       "      <td>175.000000</td>\n",
       "      <td>NaN</td>\n",
       "    </tr>\n",
       "    <tr>\n",
       "      <th>75%</th>\n",
       "      <td>200.000000</td>\n",
       "      <td>NaN</td>\n",
       "    </tr>\n",
       "    <tr>\n",
       "      <th>max</th>\n",
       "      <td>250.000000</td>\n",
       "      <td>NaN</td>\n",
       "    </tr>\n",
       "  </tbody>\n",
       "</table>\n",
       "</div>"
      ],
      "text/plain": [
       "            Sales  Unnamed: 2\n",
       "count    5.000000         0.0\n",
       "mean   175.000000         NaN\n",
       "std     55.901699         NaN\n",
       "min    100.000000         NaN\n",
       "25%    150.000000         NaN\n",
       "50%    175.000000         NaN\n",
       "75%    200.000000         NaN\n",
       "max    250.000000         NaN"
      ]
     },
     "execution_count": 60,
     "metadata": {},
     "output_type": "execute_result"
    }
   ],
   "source": [
    "data.describe()"
   ]
  },
  {
   "cell_type": "code",
   "execution_count": 61,
   "id": "cdb84071-09da-4145-83af-c75cc0b0cafe",
   "metadata": {},
   "outputs": [],
   "source": [
    "df= data.dropna(axis= 1, how= 'all')"
   ]
  },
  {
   "cell_type": "code",
   "execution_count": 63,
   "id": "25066cd5-7336-40f3-b3df-3e5a1fc9023c",
   "metadata": {},
   "outputs": [
    {
     "data": {
      "text/html": [
       "<div>\n",
       "<style scoped>\n",
       "    .dataframe tbody tr th:only-of-type {\n",
       "        vertical-align: middle;\n",
       "    }\n",
       "\n",
       "    .dataframe tbody tr th {\n",
       "        vertical-align: top;\n",
       "    }\n",
       "\n",
       "    .dataframe thead th {\n",
       "        text-align: right;\n",
       "    }\n",
       "</style>\n",
       "<table border=\"1\" class=\"dataframe\">\n",
       "  <thead>\n",
       "    <tr style=\"text-align: right;\">\n",
       "      <th></th>\n",
       "      <th>Date</th>\n",
       "      <th>Sales</th>\n",
       "    </tr>\n",
       "  </thead>\n",
       "  <tbody>\n",
       "    <tr>\n",
       "      <th>0</th>\n",
       "      <td>1/9/2023</td>\n",
       "      <td>100</td>\n",
       "    </tr>\n",
       "    <tr>\n",
       "      <th>1</th>\n",
       "      <td>2/9/2023</td>\n",
       "      <td>200</td>\n",
       "    </tr>\n",
       "    <tr>\n",
       "      <th>2</th>\n",
       "      <td>3/9/2023</td>\n",
       "      <td>250</td>\n",
       "    </tr>\n",
       "    <tr>\n",
       "      <th>3</th>\n",
       "      <td>4/9/2023</td>\n",
       "      <td>175</td>\n",
       "    </tr>\n",
       "    <tr>\n",
       "      <th>4</th>\n",
       "      <td>5/9/2023</td>\n",
       "      <td>150</td>\n",
       "    </tr>\n",
       "  </tbody>\n",
       "</table>\n",
       "</div>"
      ],
      "text/plain": [
       "       Date  Sales\n",
       "0  1/9/2023    100\n",
       "1  2/9/2023    200\n",
       "2  3/9/2023    250\n",
       "3  4/9/2023    175\n",
       "4  5/9/2023    150"
      ]
     },
     "execution_count": 63,
     "metadata": {},
     "output_type": "execute_result"
    }
   ],
   "source": [
    "df"
   ]
  },
  {
   "cell_type": "code",
   "execution_count": 66,
   "id": "cc684bef-22a9-4fb5-b0d4-ef67ade6a861",
   "metadata": {},
   "outputs": [
    {
     "data": {
      "image/png": "[encoded data removed]",
      "text/plain": [
       "<Figure size 640x480 with 1 Axes>"
      ]
     },
     "metadata": {},
     "output_type": "display_data"
    }
   ],
   "source": [
    "plt.plot(df['Date'], df['Sales'])\n",
    "plt.title(\"Sales within 5 days\")\n",
    "plt.xlabel(\"Date\")\n",
    "plt.ylabel(\"Sales\")\n",
    "plt.xticks(rotation=45) \n",
    "plt.show()\n",
    "\n",
    "\n",
    "\n"
   ]
  }
 ],
 "metadata": {
  "kernelspec": {
   "display_name": "Python 3 (ipykernel)",
   "language": "python",
   "name": "python3"
  },
  "language_info": {
   "codemirror_mode": {
    "name": "ipython",
    "version": 3
   },
   "file_extension": ".py",
   "mimetype": "text/x-python",
   "name": "python",
   "nbconvert_exporter": "python",
   "pygments_lexer": "ipython3",
   "version": "3.12.4"
  }
 },
 "nbformat": 4,
 "nbformat_minor": 5
}
