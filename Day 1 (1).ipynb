{
 "cells": [
  {
   "cell_type": "code",
   "execution_count": 1,
   "id": "8dcb1fd9-846e-4777-9583-0695de29ff23",
   "metadata": {},
   "outputs": [
    {
     "name": "stdout",
     "output_type": "stream",
     "text": [
      "the sum is 7\n",
      " the product is 12\n"
     ]
    }
   ],
   "source": [
    "# basic data types and operation\n",
    "\n",
    "x= 3\n",
    "y= 4\n",
    "\n",
    "sum= x+y\n",
    "product= x*y\n",
    "\n",
    "print(f\"the sum is {sum}\")\n",
    "print(f\"the product is {product}\")"
   ]
  },
  {
   "cell_type": "code",
   "execution_count": 3,
   "id": "72062e7c-93b3-4990-985d-1ae5254eba7e",
   "metadata": {},
   "outputs": [
    {
     "name": "stdout",
     "output_type": "stream",
     "text": [
      " my name is aswini\n"
     ]
    }
   ],
   "source": [
    "# string\n",
    "\n",
    "name= \"aswini\"\n",
    "print(f\" my name is {name}\")"
   ]
  },
  {
   "cell_type": "code",
   "execution_count": 8,
   "id": "a9f424e4-b9b7-44f6-b81c-6f4438ee9b1c",
   "metadata": {},
   "outputs": [
    {
     "name": "stdout",
     "output_type": "stream",
     "text": [
      " is today raining: True\n"
     ]
    }
   ],
   "source": [
    "#boolean\n",
    "\n",
    "raining= True\n",
    "print(f\" is today raining: {raining}\")"
   ]
  },
  {
   "cell_type": "code",
   "execution_count": 14,
   "id": "309bc471-a2ed-449b-8f72-8797b47d5418",
   "metadata": {},
   "outputs": [
    {
     "name": "stdout",
     "output_type": "stream",
     "text": [
      "my new list is [1, 2, 3, 4, 5, 6, 7]\n"
     ]
    }
   ],
   "source": [
    "# list\n",
    "\n",
    "my_list= [1,2,3,4,5,6]\n",
    "my_list.append(7)\n",
    "\n",
    "print(f\"my new list is {my_list}\")"
   ]
  },
  {
   "cell_type": "code",
   "execution_count": 15,
   "id": "a1a2b54b-6fee-4229-923b-09172019d7bf",
   "metadata": {},
   "outputs": [
    {
     "ename": "AttributeError",
     "evalue": "'tuple' object has no attribute 'append'",
     "output_type": "error",
     "traceback": [
      "\u001b[1;31m---------------------------------------------------------------------------\u001b[0m",
      "\u001b[1;31mAttributeError\u001b[0m                            Traceback (most recent call last)",
      "Cell \u001b[1;32mIn[15], line 4\u001b[0m\n\u001b[0;32m      1\u001b[0m \u001b[38;5;66;03m#tuple\u001b[39;00m\n\u001b[0;32m      3\u001b[0m my_list\u001b[38;5;241m=\u001b[39m (\u001b[38;5;241m1\u001b[39m,\u001b[38;5;241m2\u001b[39m,\u001b[38;5;241m3\u001b[39m,\u001b[38;5;241m4\u001b[39m,\u001b[38;5;241m5\u001b[39m,\u001b[38;5;241m6\u001b[39m)\n\u001b[1;32m----> 4\u001b[0m my_list\u001b[38;5;241m.\u001b[39mappend(\u001b[38;5;241m7\u001b[39m)\n",
      "\u001b[1;31mAttributeError\u001b[0m: 'tuple' object has no attribute 'append'"
     ]
    }
   ],
   "source": [
    "#tuple\n",
    "\n",
    "my_list= (1,2,3,4,5,6)\n",
    "my_list.append(7)"
   ]
  },
  {
   "cell_type": "code",
   "execution_count": 16,
   "id": "864b19cd-1b5a-42c3-bc70-28f3acf1c58d",
   "metadata": {},
   "outputs": [
    {
     "name": "stdout",
     "output_type": "stream",
     "text": [
      "tuple is immutable, my list is (1, 2, 3, 4, 5, 6)\n"
     ]
    }
   ],
   "source": [
    "print(f\"tuple is immutable, my list is {my_list}\")"
   ]
  },
  {
   "cell_type": "code",
   "execution_count": 21,
   "id": "ba8eebbb-d015-4b4a-89a6-1431fb656722",
   "metadata": {},
   "outputs": [
    {
     "name": "stdout",
     "output_type": "stream",
     "text": [
      "person dictionary {'Alice': 24, 'grade': 'A', 'Subject': 'Math'}\n"
     ]
    }
   ],
   "source": [
    "# dictionary\n",
    "\n",
    "my_dict= {\"Alice\": 24,  \"grade\": \"A\"}\n",
    "my_dict[\"Subject\"]= \"Math\"\n",
    "\n",
    "print(f\"person dictionary {my_dict}\")\n",
    "\n"
   ]
  },
  {
   "cell_type": "code",
   "execution_count": 26,
   "id": "d997cf5f-0006-4214-9f5b-cfdc109d5312",
   "metadata": {},
   "outputs": [
    {
     "name": "stdout",
     "output_type": "stream",
     "text": [
      "{1, 2, 3, 5, 23}\n"
     ]
    }
   ],
   "source": [
    "#sets are unique and ordered\n",
    "\n",
    "sets= {5,5,5,1,1,1,2,2,23,3,3}\n",
    "\n",
    "print(sets)"
   ]
  },
  {
   "cell_type": "code",
   "execution_count": 29,
   "id": "3020df7f-df1b-432c-a91a-5c4ccaed3ecf",
   "metadata": {},
   "outputs": [
    {
     "name": "stdout",
     "output_type": "stream",
     "text": [
      "the numbers are 1\n",
      "the numbers are 2\n",
      "the numbers are 3\n",
      "the numbers are 4\n",
      "the numbers are 5\n",
      "the numbers are 6\n"
     ]
    }
   ],
   "source": [
    "# for loops\n",
    "\n",
    "numbers = [1,2,3,4,5,6]\n",
    "\n",
    "for n in numbers:\n",
    "    print(f\"the numbers are {n}\")"
   ]
  },
  {
   "cell_type": "code",
   "execution_count": 34,
   "id": "39f78051-130e-4fa7-9a4a-487356708474",
   "metadata": {},
   "outputs": [
    {
     "name": "stdout",
     "output_type": "stream",
     "text": [
      " number is 0\n",
      " number is 1\n",
      " number is 2\n",
      " number is 3\n",
      " number is 4\n"
     ]
    }
   ],
   "source": [
    "# while loop\n",
    "\n",
    "counter= 0\n",
    "\n",
    "while counter <5:\n",
    "    print(f\" number is {counter}\")\n",
    "    counter= counter + 1"
   ]
  },
  {
   "cell_type": "code",
   "execution_count": 39,
   "id": "9c85cf0e-9f84-4321-b763-9629381beb00",
   "metadata": {},
   "outputs": [
    {
     "name": "stdout",
     "output_type": "stream",
     "text": [
      "the numbers are: 1\n",
      "the numbers are: 2\n"
     ]
    }
   ],
   "source": [
    "# break and continue loop\n",
    "\n",
    "counter= 0\n",
    "\n",
    "while counter <5:\n",
    "    counter= counter +1\n",
    "    if counter==3:\n",
    "        break\n",
    "    print(f\"the numbers are: {counter}\")\n"
   ]
  },
  {
   "cell_type": "code",
   "execution_count": 43,
   "id": "3845681c-da6c-44bc-85fa-b1e1b15ce57b",
   "metadata": {},
   "outputs": [
    {
     "name": "stdout",
     "output_type": "stream",
     "text": [
      "the numbers are 2\n",
      "the numbers are 3\n",
      "the numbers are 4\n",
      "the numbers are 5\n"
     ]
    }
   ],
   "source": [
    "counter= 0\n",
    "\n",
    "while counter<5:\n",
    "    counter = counter +1\n",
    "    if counter==1:\n",
    "        continue\n",
    "    print(f\"the numbers are {counter}\")"
   ]
  },
  {
   "cell_type": "code",
   "execution_count": 47,
   "id": "4150cfce-9d14-47c2-af57-c7c4a013f518",
   "metadata": {},
   "outputs": [
    {
     "name": "stdin",
     "output_type": "stream",
     "text": [
      "what is your age:   20\n"
     ]
    },
    {
     "name": "stdout",
     "output_type": "stream",
     "text": [
      "you are eligible to vote\n"
     ]
    }
   ],
   "source": [
    "# if statement\n",
    "\n",
    "age= int(input((f\"what is your age:  \")))\n",
    "\n",
    "if age >=18:\n",
    "    print(\"you are eligible to vote\")\n",
    "\n",
    "else: \n",
    "    print(\"you are not eligible to vote\")\n"
   ]
  },
  {
   "cell_type": "code",
   "execution_count": 68,
   "id": "659765d4-f5cf-462d-bfbb-365f996f5498",
   "metadata": {},
   "outputs": [
    {
     "name": "stdin",
     "output_type": "stream",
     "text": [
      "what is your grade:  70\n"
     ]
    },
    {
     "name": "stdout",
     "output_type": "stream",
     "text": [
      " grade is B\n"
     ]
    }
   ],
   "source": [
    "# if, else, elif\n",
    "\n",
    "grade= int(input((f\"what is your grade: \")))\n",
    "\n",
    "\n",
    "if grade >= 75:\n",
    "    print(\"grade is A\")\n",
    "\n",
    "elif grade<=70 and grade>=60:\n",
    "    print(\" grade is B\")\n",
    "elif grade >=50 and grade >=40:\n",
    "    print(\" grade is C\")\n",
    "else:\n",
    "    print(\" you failed this subject\")\n"
   ]
  },
  {
   "cell_type": "code",
   "execution_count": 99,
   "id": "9b229442-41fb-4676-a5d0-0649f898009f",
   "metadata": {},
   "outputs": [
    {
     "name": "stdout",
     "output_type": "stream",
     "text": [
      "the total sales are : 560\n",
      "Maximum sales is Product A\n",
      "discounted price is for Product A 180.0\n",
      "discounted price is for Product C 180.0\n"
     ]
    }
   ],
   "source": [
    "# Mini project\n",
    "sales_data = {\n",
    "    \"Product A\": 200,\n",
    "    \"Product B\": 60,\n",
    "    \"Product C\": 120,\n",
    "    \"Product D\": 80,\n",
    "    \"Product E\": 100\n",
    "}\n",
    "\n",
    "total_sales= 0\n",
    "for sales in sales_data.values():\n",
    "    total_sales= total_sales+sales\n",
    "print(f\"the total sales are : {total_sales}\")\n",
    "\n",
    "\n",
    "max_sales= max(sales_data, key= sales_data.get)\n",
    "print(f\"Maximum sales is {max_sales}\")\n",
    "\n",
    "for product, sales_value in sales_data.items():\n",
    "    if sales_value> 100:\n",
    "        disc_price= sales_values*0.9\n",
    "        print(f\"discounted price is for {product} {disc_price}\")\n",
    "\n",
    "\n",
    "\n",
    "\n",
    "\n",
    "\n",
    "\n"
   ]
  }
 ],
 "metadata": {
  "kernelspec": {
   "display_name": "Python 3 (ipykernel)",
   "language": "python",
   "name": "python3"
  },
  "language_info": {
   "codemirror_mode": {
    "name": "ipython",
    "version": 3
   },
   "file_extension": ".py",
   "mimetype": "text/x-python",
   "name": "python",
   "nbconvert_exporter": "python",
   "pygments_lexer": "ipython3",
   "version": "3.12.4"
  }
 },
 "nbformat": 4,
 "nbformat_minor": 5
}
